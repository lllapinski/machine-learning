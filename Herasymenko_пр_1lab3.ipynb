{
 "cells": [
  {
   "cell_type": "markdown",
   "id": "74521a1a",
   "metadata": {},
   "source": [
    "# Лабораторна робота 3\n",
    "**Тема:** Лінійна регресія\n",
    "\n",
    "**Автор:** Herasymenko  •  **Варіант:** 1  •  **Дата:** 2025-10-28\n",
    "\n",
    "**Важливо:** Кожен підпункт виконаний в окремій комірці з коментарем-умовою."
   ]
  },
  {
   "cell_type": "code",
   "execution_count": null,
   "id": "24f3c18f",
   "metadata": {},
   "outputs": [],
   "source": [
    "# === Імпорт бібліотек ===\n",
    "import pandas as pd\n",
    "import numpy as np\n",
    "import matplotlib.pyplot as plt\n",
    "from sklearn import datasets\n",
    "from sklearn.model_selection import train_test_split, GridSearchCV\n",
    "from sklearn.preprocessing import StandardScaler\n",
    "from sklearn.linear_model import LinearRegression, Ridge\n",
    "from sklearn.ensemble import RandomForestRegressor\n",
    "from sklearn.metrics import r2_score, mean_squared_error\n",
    "\n",
    "pd.set_option('display.max_columns', 50)\n",
    "print('✅ Імпорт виконано')"
   ]
  },
  {
   "cell_type": "markdown",
   "id": "a66be5c5",
   "metadata": {},
   "source": [
    "## 🧠 Завдання 1. Diabetes Dataset"
   ]
  },
  {
   "cell_type": "markdown",
   "id": "d9fbc761",
   "metadata": {},
   "source": [
    "### 1. Завантажити Diabetes Dataset та вивести перших 5 рядків"
   ]
  },
  {
   "cell_type": "code",
   "execution_count": null,
   "id": "fb477684",
   "metadata": {},
   "outputs": [],
   "source": [
    "# Умова: Завантажити датасет і показати перші 5 рядків\n",
    "diabetes = datasets.load_diabetes()\n",
    "df = pd.DataFrame(diabetes.data, columns=diabetes.feature_names)\n",
    "df['target'] = diabetes.target\n",
    "df.head()"
   ]
  },
  {
   "cell_type": "markdown",
   "id": "187b2783",
   "metadata": {},
   "source": [
    "### 2. Перевірити пропуски; при наявності — замінити на середнє"
   ]
  },
  {
   "cell_type": "code",
   "execution_count": null,
   "id": "a9ab07e9",
   "metadata": {},
   "outputs": [],
   "source": [
    "# Умова: Перевірити пропуски і при потребі заповнити середнім\n",
    "na_before = df.isna().sum()\n",
    "for c in df.columns:\n",
    "    if df[c].isna().any():\n",
    "        df[c] = df[c].fillna(df[c].mean())\n",
    "na_after = df.isna().sum()\n",
    "na_before, na_after"
   ]
  },
  {
   "cell_type": "markdown",
   "id": "3703b985",
   "metadata": {},
   "source": [
    "### 3. Перевірити дублікати; видалити при наявності"
   ]
  },
  {
   "cell_type": "code",
   "execution_count": null,
   "id": "6b82bf0e",
   "metadata": {},
   "outputs": [],
   "source": [
    "# Умова: Перевірити дублікати і видалити\n",
    "dups = df.duplicated().sum()\n",
    "df = df.drop_duplicates()\n",
    "dups, df.shape"
   ]
  },
  {
   "cell_type": "markdown",
   "id": "ac060d9e",
   "metadata": {},
   "source": [
    "### 4. Замінити бінарні ознаки; перевірити унікальні значення «sex»"
   ]
  },
  {
   "cell_type": "code",
   "execution_count": null,
   "id": "ae7239cc",
   "metadata": {},
   "outputs": [],
   "source": [
    "# Умова: Перевірити унікальні значення у стовпці 'sex'\n",
    "if 'sex' in df.columns:\n",
    "    uniques_sex = df['sex'].unique()\n",
    "    # У цьому датасеті всі ознаки вже числові й масштабовані; додаткове кодування не потрібне\n",
    "    uniques_sex\n",
    "else:\n",
    "    'Стовпця sex немає'"
   ]
  },
  {
   "cell_type": "markdown",
   "id": "86f2215f",
   "metadata": {},
   "source": [
    "### 5. Перевірити типи даних; за потреби конвертувати до числових"
   ]
  },
  {
   "cell_type": "code",
   "execution_count": null,
   "id": "7bb0df77",
   "metadata": {},
   "outputs": [],
   "source": [
    "# Умова: Перевірити типи даних; усе має бути числовим\n",
    "dtypes_info = df.dtypes\n",
    "# Якщо раптом щось нечислове, спробуємо привести\n",
    "for c in df.columns:\n",
    "    if df[c].dtype == 'O':\n",
    "        df[c] = pd.to_numeric(df[c], errors='coerce').fillna(df[c].dropna().astype(str).str.extract(r'([\\-\\d\\.]+)')[0].astype(float).mean() if df[c].dropna().shape[0]>0 else 0)\n",
    "dtypes_info"
   ]
  },
  {
   "cell_type": "markdown",
   "id": "9e5424eb",
   "metadata": {},
   "source": [
    "### 6. Обчислити кореляцію з target; відсортувати; побудувати теплову карту"
   ]
  },
  {
   "cell_type": "code",
   "execution_count": null,
   "id": "d11b7776",
   "metadata": {},
   "outputs": [],
   "source": [
    "# Умова: Кореляція з цільовою змінною та heatmap\n",
    "corr_series = df.corr(numeric_only=True)['target'].sort_values(ascending=False)\n",
    "corr_series"
   ]
  },
  {
   "cell_type": "code",
   "execution_count": null,
   "id": "99ee8226",
   "metadata": {},
   "outputs": [],
   "source": [
    "# Теплова карта кореляції (matplotlib)\n",
    "corr_mat = df.corr(numeric_only=True)\n",
    "plt.figure(figsize=(8,6))\n",
    "im = plt.imshow(corr_mat, aspect='auto')\n",
    "plt.colorbar(im)\n",
    "plt.xticks(range(len(corr_mat.columns)), corr_mat.columns, rotation=90)\n",
    "plt.yticks(range(len(corr_mat.index)), corr_mat.index)\n",
    "plt.title('Кореляційна матриця (Diabetes)')\n",
    "plt.tight_layout()\n",
    "plt.show()"
   ]
  },
  {
   "cell_type": "markdown",
   "id": "8c6f55ff",
   "metadata": {},
   "source": [
    "### 7. Масштабувати ознаки"
   ]
  },
  {
   "cell_type": "code",
   "execution_count": null,
   "id": "b2dbbd86",
   "metadata": {},
   "outputs": [],
   "source": [
    "# Умова: Масштабування ознак (окрім target)\n",
    "X = df.drop('target', axis=1)\n",
    "y = df['target']\n",
    "scaler = StandardScaler()\n",
    "X_scaled = scaler.fit_transform(X)\n",
    "X.shape, X_scaled.shape"
   ]
  },
  {
   "cell_type": "markdown",
   "id": "354aabf9",
   "metadata": {},
   "source": [
    "### 8. Поділити дані на тренувальну та тестову вибірки"
   ]
  },
  {
   "cell_type": "code",
   "execution_count": null,
   "id": "6db7aa4d",
   "metadata": {},
   "outputs": [],
   "source": [
    "# Умова: Train/Test split\n",
    "X_train, X_test, y_train, y_test = train_test_split(X_scaled, y, test_size=0.2, random_state=42)\n",
    "X_train.shape, X_test.shape"
   ]
  },
  {
   "cell_type": "markdown",
   "id": "ac55b627",
   "metadata": {},
   "source": [
    "### 9. Побудувати Linear Regression і RandomForest на найбільш корельованих ознаках (підібрати k)"
   ]
  },
  {
   "cell_type": "code",
   "execution_count": null,
   "id": "0df2e405",
   "metadata": {},
   "outputs": [],
   "source": [
    "# Умова: Вибрати k найбільш корельованих ознак\n",
    "k = 6  # можна змінити й перевірити\n",
    "top_features = corr_series.drop('target').abs().sort_values(ascending=False).head(k).index.tolist()\n",
    "top_features"
   ]
  },
  {
   "cell_type": "code",
   "execution_count": null,
   "id": "69ed7ca8",
   "metadata": {},
   "outputs": [],
   "source": [
    "# Навчання моделей лише на top_features\n",
    "feat_idx = [list(X.columns).index(f) for f in top_features]\n",
    "X_train_top = X_train[:, feat_idx]\n",
    "X_test_top  = X_test[:, feat_idx]\n",
    "\n",
    "# Лінійна регресія\n",
    "lin = LinearRegression().fit(X_train_top, y_train)\n",
    "y_pred_lin = lin.predict(X_test_top)\n",
    "\n",
    "# RandomForest (підберемо n_estimators грубо)\n",
    "rf = RandomForestRegressor(n_estimators=300, random_state=42)\n",
    "rf.fit(X_train_top, y_train)\n",
    "y_pred_rf = rf.predict(X_test_top)\n",
    "\n",
    "'Навчено моделі на top_features'"
   ]
  },
  {
   "cell_type": "markdown",
   "id": "d5f446f4",
   "metadata": {},
   "source": [
    "### 10. Вивести R² і MSE для обох моделей"
   ]
  },
  {
   "cell_type": "code",
   "execution_count": null,
   "id": "c661a148",
   "metadata": {},
   "outputs": [],
   "source": [
    "# Метрики\n",
    "metrics = pd.DataFrame({\n",
    "    'Model': ['LinearRegression','RandomForest'],\n",
    "    'R2': [r2_score(y_test, y_pred_lin), r2_score(y_test, y_pred_rf)],\n",
    "    'MSE': [mean_squared_error(y_test, y_pred_lin), mean_squared_error(y_test, y_pred_rf)]\n",
    "})\n",
    "metrics"
   ]
  },
  {
   "cell_type": "markdown",
   "id": "aea63242",
   "metadata": {},
   "source": [
    "### 11. Побудувати графіки (y_true vs y_pred)"
   ]
  },
  {
   "cell_type": "code",
   "execution_count": null,
   "id": "0970f062",
   "metadata": {},
   "outputs": [],
   "source": [
    "# Порівняння прогнозів\n",
    "plt.figure(figsize=(12,5))\n",
    "plt.subplot(1,2,1)\n",
    "plt.scatter(y_test, y_pred_lin, alpha=0.7)\n",
    "plt.xlabel('Справжні значення'); plt.ylabel('Прогноз (Linear)'); plt.title('Linear Regression')\n",
    "\n",
    "plt.subplot(1,2,2)\n",
    "plt.scatter(y_test, y_pred_rf, alpha=0.7)\n",
    "plt.xlabel('Справжні значення'); plt.ylabel('Прогноз (RF)'); plt.title('Random Forest')\n",
    "\n",
    "plt.tight_layout(); plt.show()"
   ]
  },
  {
   "cell_type": "markdown",
   "id": "79bf152f",
   "metadata": {},
   "source": [
    "### 12. Вивести справжні і прогнозовані значення"
   ]
  },
  {
   "cell_type": "code",
   "execution_count": null,
   "id": "f43c9382",
   "metadata": {},
   "outputs": [],
   "source": [
    "res = pd.DataFrame({'Actual': y_test.reset_index(drop=True),\n",
    "                    'Pred_Linear': pd.Series(y_pred_lin),\n",
    "                    'Pred_RF': pd.Series(y_pred_rf)})\n",
    "res.head(10)"
   ]
  },
  {
   "cell_type": "markdown",
   "id": "8b58fc54",
   "metadata": {},
   "source": [
    "### 13. ВИСНОВКИ (заповни у Markdown-клітинці нижче)"
   ]
  },
  {
   "cell_type": "markdown",
   "id": "a473fd75",
   "metadata": {},
   "source": [
    "**Висновок до Завдання 1:**\n",
    "- Які ознаки найсильніше корелюють із target?\n",
    "- Яка модель показала кращий R² / MSE?\n",
    "- Чи допоміг відбір найбільш корельованих ознак?\n"
   ]
  },
  {
   "cell_type": "markdown",
   "id": "e8142a16",
   "metadata": {},
   "source": [
    "---\n",
    "## 🏠 Завдання 2. California Housing Dataset"
   ]
  },
  {
   "cell_type": "markdown",
   "id": "5b632c35",
   "metadata": {},
   "source": [
    "### 1. Завантажити датасет і вивести перших 5 рядків"
   ]
  },
  {
   "cell_type": "code",
   "execution_count": null,
   "id": "be48bf77",
   "metadata": {},
   "outputs": [],
   "source": [
    "# Умова: Завантажити California Housing (вбудований у sklearn)\n",
    "from sklearn.datasets import fetch_california_housing\n",
    "cal = fetch_california_housing(as_frame=True)\n",
    "df2 = cal.frame.copy()\n",
    "df2.head()"
   ]
  },
  {
   "cell_type": "markdown",
   "id": "cf49db85",
   "metadata": {},
   "source": [
    "### 2. Попередній аналіз: пропуски, дублікати, типи, кореляція + heatmap"
   ]
  },
  {
   "cell_type": "code",
   "execution_count": null,
   "id": "3d9172f6",
   "metadata": {},
   "outputs": [],
   "source": [
    "# Пропуски\n",
    "na2_before = df2.isna().sum()\n",
    "for c in df2.columns:\n",
    "    if df2[c].isna().any():\n",
    "        df2[c] = df2[c].fillna(df2[c].mean())\n",
    "na2_after = df2.isna().sum()\n",
    "na2_before, na2_after"
   ]
  },
  {
   "cell_type": "code",
   "execution_count": null,
   "id": "4d57feac",
   "metadata": {},
   "outputs": [],
   "source": [
    "# Дублікати\n",
    "dups2 = df2.duplicated().sum()\n",
    "df2 = df2.drop_duplicates()\n",
    "dups2, df2.shape"
   ]
  },
  {
   "cell_type": "code",
   "execution_count": null,
   "id": "96f6b4e4",
   "metadata": {},
   "outputs": [],
   "source": [
    "# Типи даних\n",
    "df2.dtypes"
   ]
  },
  {
   "cell_type": "code",
   "execution_count": null,
   "id": "fc42755e",
   "metadata": {},
   "outputs": [],
   "source": [
    "# Кореляція цілі (MedHouseVal) з ознаками\n",
    "target2 = 'MedHouseVal'\n",
    "corr2 = df2.corr(numeric_only=True)[target2].sort_values(ascending=False)\n",
    "corr2"
   ]
  },
  {
   "cell_type": "code",
   "execution_count": null,
   "id": "799a3074",
   "metadata": {},
   "outputs": [],
   "source": [
    "# Heatmap (matplotlib)\n",
    "corr_mat2 = df2.corr(numeric_only=True)\n",
    "plt.figure(figsize=(8,6))\n",
    "im = plt.imshow(corr_mat2, aspect='auto')\n",
    "plt.colorbar(im)\n",
    "plt.xticks(range(len(corr_mat2.columns)), corr_mat2.columns, rotation=90)\n",
    "plt.yticks(range(len(corr_mat2.index)), corr_mat2.index)\n",
    "plt.title('Кореляційна матриця (California)')\n",
    "plt.tight_layout(); plt.show()"
   ]
  },
  {
   "cell_type": "markdown",
   "id": "4214f250",
   "metadata": {},
   "source": [
    "### 3. Масштабувати ознаки"
   ]
  },
  {
   "cell_type": "code",
   "execution_count": null,
   "id": "c6675972",
   "metadata": {},
   "outputs": [],
   "source": [
    "X2 = df2.drop(columns=[target2])\n",
    "y2 = df2[target2]\n",
    "scaler2 = StandardScaler()\n",
    "X2_scaled = scaler2.fit_transform(X2)\n",
    "X2.shape, X2_scaled.shape"
   ]
  },
  {
   "cell_type": "markdown",
   "id": "8092bafc",
   "metadata": {},
   "source": [
    "### 4. Поділити дані на тренувальні/тестові"
   ]
  },
  {
   "cell_type": "code",
   "execution_count": null,
   "id": "167b57d8",
   "metadata": {},
   "outputs": [],
   "source": [
    "X2_train, X2_test, y2_train, y2_test = train_test_split(X2_scaled, y2, test_size=0.2, random_state=42)\n",
    "X2_train.shape, X2_test.shape"
   ]
  },
  {
   "cell_type": "markdown",
   "id": "e18c619f",
   "metadata": {},
   "source": [
    "### 5. Побудувати 3 моделі (Linear, RandomForest, Ridge) з підбором параметрів (GridSearchCV)"
   ]
  },
  {
   "cell_type": "code",
   "execution_count": null,
   "id": "2bdac13b",
   "metadata": {},
   "outputs": [],
   "source": [
    "# Лінійна регресія (без параметрів для гріду — просто базова) \n",
    "lin2 = LinearRegression()\n",
    "lin2.fit(X2_train, y2_train)\n",
    "y2_pred_lin = lin2.predict(X2_test)\n",
    "\n",
    "# RandomForest з GridSearchCV\n",
    "rf2 = RandomForestRegressor(random_state=42)\n",
    "param_grid_rf = {\n",
    "    'n_estimators': [100, 200],\n",
    "    'max_depth': [None, 10, 20]\n",
    "}\n",
    "gs_rf = GridSearchCV(rf2, param_grid_rf, cv=3, scoring='r2', n_jobs=-1)\n",
    "gs_rf.fit(X2_train, y2_train)\n",
    "best_rf = gs_rf.best_estimator_\n",
    "y2_pred_rf = best_rf.predict(X2_test)\n",
    "\n",
    "# Ridge з GridSearchCV\n",
    "ridge = Ridge()\n",
    "param_grid_rg = {'alpha': [0.1, 1.0, 10.0]}\n",
    "gs_rg = GridSearchCV(ridge, param_grid_rg, cv=3, scoring='r2', n_jobs=-1)\n",
    "gs_rg.fit(X2_train, y2_train)\n",
    "best_ridge = gs_rg.best_estimator_\n",
    "y2_pred_ridge = best_ridge.predict(X2_test)\n",
    "\n",
    "gs_rf.best_params_, gs_rg.best_params_"
   ]
  },
  {
   "cell_type": "markdown",
   "id": "c059a86d",
   "metadata": {},
   "source": [
    "### 6. Вивести R² і MSE для трьох моделей; побудувати графіки"
   ]
  },
  {
   "cell_type": "code",
   "execution_count": null,
   "id": "f096640b",
   "metadata": {},
   "outputs": [],
   "source": [
    "metrics2 = pd.DataFrame({\n",
    "    'Model': ['Linear','RandomForest','Ridge'],\n",
    "    'R2': [r2_score(y2_test, y2_pred_lin), r2_score(y2_test, y2_pred_rf), r2_score(y2_test, y2_pred_ridge)],\n",
    "    'MSE': [mean_squared_error(y2_test, y2_pred_lin), mean_squared_error(y2_test, y2_pred_rf), mean_squared_error(y2_test, y2_pred_ridge)]\n",
    "})\n",
    "metrics2"
   ]
  },
  {
   "cell_type": "code",
   "execution_count": null,
   "id": "b5df998f",
   "metadata": {},
   "outputs": [],
   "source": [
    "plt.figure(figsize=(15,4))\n",
    "plt.subplot(1,3,1)\n",
    "plt.scatter(y2_test, y2_pred_lin, alpha=0.6); plt.title('Linear')\n",
    "plt.xlabel('Actual'); plt.ylabel('Predicted')\n",
    "\n",
    "plt.subplot(1,3,2)\n",
    "plt.scatter(y2_test, y2_pred_rf, alpha=0.6); plt.title('RandomForest')\n",
    "plt.xlabel('Actual'); plt.ylabel('Predicted')\n",
    "\n",
    "plt.subplot(1,3,3)\n",
    "plt.scatter(y2_test, y2_pred_ridge, alpha=0.6); plt.title('Ridge')\n",
    "plt.xlabel('Actual'); plt.ylabel('Predicted')\n",
    "\n",
    "plt.tight_layout(); plt.show()"
   ]
  },
  {
   "cell_type": "markdown",
   "id": "f9ca727d",
   "metadata": {},
   "source": [
    "### 7. Вивести справжні і прогнозовані значення"
   ]
  },
  {
   "cell_type": "code",
   "execution_count": null,
   "id": "095bc4d4",
   "metadata": {},
   "outputs": [],
   "source": [
    "res2 = pd.DataFrame({\n",
    "    'Actual': y2_test.reset_index(drop=True),\n",
    "    'Pred_Linear': pd.Series(y2_pred_lin),\n",
    "    'Pred_RF': pd.Series(y2_pred_rf),\n",
    "    'Pred_Ridge': pd.Series(y2_pred_ridge)\n",
    "})\n",
    "res2.head(10)"
   ]
  },
  {
   "cell_type": "markdown",
   "id": "d68e9745",
   "metadata": {},
   "source": [
    "### ВИСНОВКИ (заповни у Markdown-клітинці нижче)"
   ]
  },
  {
   "cell_type": "markdown",
   "id": "d7765cce",
   "metadata": {},
   "source": [
    "**Висновок до Завдання 2:**\n",
    "- Які параметри підібрали для RF та Ridge?\n",
    "- Яка модель показала кращий R² / MSE і чому?\n",
    "- Чи вплинуло масштабування на якість?"
   ]
  }
 ],
 "metadata": {},
 "nbformat": 4,
 "nbformat_minor": 5
}
