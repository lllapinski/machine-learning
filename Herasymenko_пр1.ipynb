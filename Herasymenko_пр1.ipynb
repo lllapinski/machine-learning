{
  "cells": [
    {
      "cell_type": "markdown",
      "id": "081af587",
      "metadata": {
        "id": "081af587"
      },
      "source": [
        "# Лабораторна робота 1\n",
        "## Вступ до машинного навчання. Елементи лінійної алгебри\n",
        "\n",
        "\n"
      ]
    },
    {
      "cell_type": "code",
      "execution_count": 2,
      "id": "c377f980",
      "metadata": {
        "colab": {
          "base_uri": "https://localhost:8080/"
        },
        "id": "c377f980",
        "outputId": "380a78f1-708a-4a5c-b4a3-99ec227e967c"
      },
      "outputs": [
        {
          "output_type": "stream",
          "name": "stdout",
          "text": [
            "Очікувана назва файлу: Herasymenko_пр_1.ipynb\n"
          ]
        }
      ],
      "source": [
        "# === МЕТАДАНІ НОУТБУКА ===\n",
        "surname = \"Herasymenko\"\n",
        "variant = 1\n",
        "created = \"2025-10-28\"\n",
        "print(f\"Очікувана назва файлу: {surname}_пр_{variant}.ipynb\")"
      ]
    },
    {
      "cell_type": "code",
      "execution_count": 4,
      "id": "df0aeaf8",
      "metadata": {
        "colab": {
          "base_uri": "https://localhost:8080/"
        },
        "id": "df0aeaf8",
        "outputId": "1b4d4846-ce40-4d0e-a2f8-77eae4bbdc10"
      },
      "outputs": [
        {
          "output_type": "stream",
          "name": "stdout",
          "text": [
            "Імпорти готові.\n"
          ]
        }
      ],
      "source": [
        "\n",
        "import numpy as np\n",
        "import pandas as pd\n",
        "import matplotlib.pyplot as plt\n",
        "\n",
        "\n",
        "from sklearn.model_selection import train_test_split\n",
        "from sklearn.linear_model import LinearRegression\n",
        "from sklearn.metrics import mean_squared_error, r2_score\n",
        "\n",
        "np.set_printoptions(suppress=True, precision=4)\n",
        "print(\"Імпорти готові.\")"
      ]
    },
    {
      "cell_type": "markdown",
      "id": "ca3b1f92",
      "metadata": {
        "id": "ca3b1f92"
      },
      "source": [
        "---\n",
        "### Завдання 1."
      ]
    },
    {
      "cell_type": "code",
      "execution_count": 7,
      "id": "5d1df0fe",
      "metadata": {
        "colab": {
          "base_uri": "https://localhost:8080/"
        },
        "id": "5d1df0fe",
        "outputId": "5d58b34a-d5ae-4a19-a3d4-294a736f8704"
      },
      "outputs": [
        {
          "output_type": "stream",
          "name": "stdout",
          "text": [
            "Вектор з перших 10 натуральних чисел:\n",
            "[ 1  2  3  4  5  6  7  8  9 10]\n"
          ]
        }
      ],
      "source": [
        "# === Завдання 1. ===\n",
        "# Умова:\n",
        "# Створіть одновимірний масив (вектор) з першими 10-ма натуральними числами та\n",
        "#виведіть його значення\n",
        "\n",
        "v = np.arange(1, 11)\n",
        "\n",
        "# виводимо результат\n",
        "print(\"Вектор з перших 10 натуральних чисел:\")\n",
        "print(v)\n"
      ]
    },
    {
      "cell_type": "markdown",
      "id": "c6486594",
      "metadata": {
        "id": "c6486594"
      },
      "source": [
        "---\n",
        "### Завдання 2"
      ]
    },
    {
      "cell_type": "code",
      "execution_count": 9,
      "id": "3224d948",
      "metadata": {
        "colab": {
          "base_uri": "https://localhost:8080/"
        },
        "id": "3224d948",
        "outputId": "8529a9de-469c-4eb9-fb80-cca8fe8682f2"
      },
      "outputs": [
        {
          "output_type": "stream",
          "name": "stdout",
          "text": [
            "Матриця 4x4, заповнена одиницями:\n",
            "[[1. 1. 1. 1.]\n",
            " [1. 1. 1. 1.]\n",
            " [1. 1. 1. 1.]\n",
            " [1. 1. 1. 1.]]\n"
          ]
        }
      ],
      "source": [
        "# === Завдання 2 ===\n",
        "# Умова:\n",
        "# Створіть двовимірний масив (матрицю) розміром 4x4, заповніть його одиницями та\n",
        "#виведіть його значення.\n",
        "\n",
        "matrix = np.ones((4, 4))\n",
        "print(\"Матриця 4x4, заповнена одиницями:\")\n",
        "print(matrix)\n",
        "\n"
      ]
    },
    {
      "cell_type": "markdown",
      "id": "537e8298",
      "metadata": {
        "id": "537e8298"
      },
      "source": [
        "---\n",
        "### Завдання 3"
      ]
    },
    {
      "cell_type": "code",
      "execution_count": 10,
      "id": "36eb56ca",
      "metadata": {
        "colab": {
          "base_uri": "https://localhost:8080/"
        },
        "id": "36eb56ca",
        "outputId": "06cc243e-f4b4-4888-a43a-a02ece6bcff2"
      },
      "outputs": [
        {
          "output_type": "stream",
          "name": "stdout",
          "text": [
            "Матриця 4x4 з випадковими цілими числами від 1 до 5:\n",
            "[[1 1 5 2]\n",
            " [2 4 4 1]\n",
            " [1 3 3 5]\n",
            " [4 1 2 2]]\n"
          ]
        }
      ],
      "source": [
        "# === Завдання 3 ===\n",
        "# Умова:\n",
        "# Створіть масив розміром 4x4, заповніть його випадковими цілими числами в діапазоні\n",
        "#від 1 до 5 та виведіть його значення.\n",
        "\n",
        "matrix = np.random.randint(1, 6, size=(4, 4))\n",
        "print(\"Матриця 4x4 з випадковими цілими числами від 1 до 5:\")\n",
        "print(matrix)\n"
      ]
    },
    {
      "cell_type": "markdown",
      "id": "f309f0fd",
      "metadata": {
        "id": "f309f0fd"
      },
      "source": [
        "---\n",
        "### Завдання 4"
      ]
    },
    {
      "cell_type": "code",
      "execution_count": 11,
      "id": "67c1f673",
      "metadata": {
        "colab": {
          "base_uri": "https://localhost:8080/"
        },
        "id": "67c1f673",
        "outputId": "e6344231-1679-4086-ee46-0efcc2defbee"
      },
      "outputs": [
        {
          "output_type": "stream",
          "name": "stdout",
          "text": [
            "Матриця 3x3 з випадковими дійсними числами [0, 1]:\n",
            "[[0.997  0.8301 0.3079]\n",
            " [0.4732 0.1001 0.3928]\n",
            " [0.8855 0.5678 0.2738]]\n"
          ]
        }
      ],
      "source": [
        "# === Завдання 4 ===\n",
        "# Умова:\n",
        "# Створіть масив розміром 3x3, заповніть його випадковими дійсними числами в\n",
        "#діапазоні від 0 до 1 та виведіть його значення.\n",
        "\n",
        "matrix = np.random.rand(3, 3)\n",
        "print(\"Матриця 3x3 з випадковими дійсними числами [0, 1]:\")\n",
        "print(matrix)\n",
        "\n",
        "\n"
      ]
    },
    {
      "cell_type": "markdown",
      "id": "a106ea0c",
      "metadata": {
        "id": "a106ea0c"
      },
      "source": [
        "---\n",
        "### Завдання 5"
      ]
    },
    {
      "cell_type": "code",
      "execution_count": 12,
      "id": "949736a7",
      "metadata": {
        "colab": {
          "base_uri": "https://localhost:8080/"
        },
        "id": "949736a7",
        "outputId": "02d216d3-b151-4eba-c88a-e25946c295de"
      },
      "outputs": [
        {
          "output_type": "stream",
          "name": "stdout",
          "text": [
            "a = [ 6  1 18 15 11 14]\n",
            "b = [12 17 17 12  6  3]\n",
            "a + b = [18 18 35 27 17 17]\n",
            "a - b = [ -6 -16   1   3   5  11]\n",
            "a * b = [ 72  17 306 180  66  42]\n"
          ]
        }
      ],
      "source": [
        "# === Завдання 5 ===\n",
        "# Умова:\n",
        "# Створіть два одновимірних масиви розміром 6, заповніть їх випадковими цілими числами в діапазоні від 1 до 20 та виконайте на них поелементні операції додавання, віднімання та множення.\n",
        "\n",
        "a = np.random.randint(1, 21, size=6)\n",
        "b = np.random.randint(1, 21, size=6)\n",
        "\n",
        "print(\"a =\", a)\n",
        "print(\"b =\", b)\n",
        "print(\"a + b =\", a + b)\n",
        "print(\"a - b =\", a - b)\n",
        "print(\"a * b =\", a * b)\n",
        "\n",
        "\n"
      ]
    },
    {
      "cell_type": "markdown",
      "id": "ed09da2b",
      "metadata": {
        "id": "ed09da2b"
      },
      "source": [
        "---\n",
        "### Завдання 6"
      ]
    },
    {
      "cell_type": "code",
      "execution_count": 13,
      "id": "71a3c4a5",
      "metadata": {
        "colab": {
          "base_uri": "https://localhost:8080/"
        },
        "id": "71a3c4a5",
        "outputId": "6e71d80a-2b1b-489b-b364-7b2c1fa80b12"
      },
      "outputs": [
        {
          "output_type": "stream",
          "name": "stdout",
          "text": [
            "a = [19 12 20 11  8  7]\n",
            "b = [ 9 13  6 16 19  5]\n",
            "a + b = [28 25 26 27 27 12]\n",
            "a - b = [ 10  -1  14  -5 -11   2]\n",
            "a * b = [171 156 120 176 152  35]\n"
          ]
        }
      ],
      "source": [
        "# === Завдання 6 ===\n",
        "# Умова:\n",
        "# Створіть два одновимірних масиви розміром 6, заповніть їх випадковими цілими\n",
        "#числами в діапазоні від 1 до 20 та виконайте на них поелементні операції додавання,\n",
        "#віднімання та множення.\n",
        "\n",
        "a = np.random.randint(1, 21, size=6)\n",
        "b = np.random.randint(1, 21, size=6)\n",
        "\n",
        "print(\"a =\", a)\n",
        "print(\"b =\", b)\n",
        "print(\"a + b =\", a + b)\n",
        "print(\"a - b =\", a - b)\n",
        "print(\"a * b =\", a * b)\n",
        "\n",
        "\n"
      ]
    },
    {
      "cell_type": "markdown",
      "id": "33ad38fa",
      "metadata": {
        "id": "33ad38fa"
      },
      "source": [
        "---\n",
        "### Завдання 7"
      ]
    },
    {
      "cell_type": "code",
      "execution_count": 14,
      "id": "e1af4a8a",
      "metadata": {
        "colab": {
          "base_uri": "https://localhost:8080/"
        },
        "id": "e1af4a8a",
        "outputId": "9f0cc92f-84a9-4d6b-e8a2-b9a2985199a4"
      },
      "outputs": [
        {
          "output_type": "stream",
          "name": "stdout",
          "text": [
            "A =\n",
            " [[4 9]\n",
            " [2 3]\n",
            " [7 7]]\n",
            "B =\n",
            " [[ 3  1  8  2]\n",
            " [ 3  6 10  9]]\n",
            "A @ B =\n",
            " [[ 39  58 122  89]\n",
            " [ 15  20  46  31]\n",
            " [ 42  49 126  77]]\n"
          ]
        }
      ],
      "source": [
        "# === Завдання 7 ===\n",
        "# Умова:\n",
        "# Створіть дві матриці розміром 3x2 та 2x4, заповніть їх випадковими цілими числами\n",
        "#в діапазоні від 1 до 10 та перемножте їх між собою.\n",
        "\n",
        "A = np.random.randint(1, 11, size=(3, 2))\n",
        "B = np.random.randint(1, 11, size=(2, 4))\n",
        "\n",
        "print(\"A =\\n\", A)\n",
        "print(\"B =\\n\", B)\n",
        "print(\"A @ B =\\n\", A @ B)\n",
        "\n",
        "\n"
      ]
    },
    {
      "cell_type": "markdown",
      "id": "1205e507",
      "metadata": {
        "id": "1205e507"
      },
      "source": [
        "---\n",
        "### Завдання 8"
      ]
    },
    {
      "cell_type": "code",
      "execution_count": 15,
      "id": "eb661a55",
      "metadata": {
        "colab": {
          "base_uri": "https://localhost:8080/"
        },
        "id": "eb661a55",
        "outputId": "d9bd9419-99a2-459f-81bd-e135290b1e32"
      },
      "outputs": [
        {
          "output_type": "stream",
          "name": "stdout",
          "text": [
            "A =\n",
            " [[6 4]\n",
            " [5 5]]\n",
            "det(A) = 10.000000000000002\n",
            "Обернена матриця:\n",
            " [[ 0.5 -0.4]\n",
            " [-0.5  0.6]]\n"
          ]
        }
      ],
      "source": [
        "# === Завдання 8 ===\n",
        "# Умова:\n",
        "# Створіть матрицю розміром 2x2, заповніть її випадковими цілими числами в діапазоні\n",
        "#від 1 до 7 та знайдіть її обернену матрицю.\n",
        "\n",
        "A = np.random.randint(1, 8, size=(2, 2))\n",
        "print(\"A =\\n\", A)\n",
        "\n",
        "det = np.linalg.det(A)\n",
        "print(\"det(A) =\", det)\n",
        "\n",
        "if det != 0:\n",
        "    invA = np.linalg.inv(A)\n",
        "    print(\"Обернена матриця:\\n\", invA)\n",
        "else:\n",
        "    print(\"Матриця не має оберненої (det = 0).\")\n",
        "\n",
        "\n"
      ]
    },
    {
      "cell_type": "markdown",
      "id": "cfdc66fa",
      "metadata": {
        "id": "cfdc66fa"
      },
      "source": [
        "---\n",
        "### Завдання 9"
      ]
    },
    {
      "cell_type": "code",
      "execution_count": 16,
      "id": "061a7900",
      "metadata": {
        "colab": {
          "base_uri": "https://localhost:8080/"
        },
        "id": "061a7900",
        "outputId": "dc51ca9e-35f1-4263-ec5e-7f0bf9471fc3"
      },
      "outputs": [
        {
          "output_type": "stream",
          "name": "stdout",
          "text": [
            "A =\n",
            " [[0.4976 0.1572 0.1485]\n",
            " [0.215  0.4147 0.331 ]\n",
            " [0.8819 0.9983 0.6366]]\n",
            "A^T =\n",
            " [[0.4976 0.215  0.8819]\n",
            " [0.1572 0.4147 0.9983]\n",
            " [0.1485 0.331  0.6366]]\n"
          ]
        }
      ],
      "source": [
        "# === Завдання 9 ===\n",
        "# Умова:\n",
        "# Створіть матрицю розміром 3x3, заповніть її випадковими дійсними числами в\n",
        "#діапазоні від 0 до 1 та транспонуйте її.\n",
        "\n",
        "A = np.random.rand(3, 3)\n",
        "print(\"A =\\n\", A)\n",
        "print(\"A^T =\\n\", A.T)\n",
        "\n",
        "\n"
      ]
    },
    {
      "cell_type": "markdown",
      "id": "f35cae10",
      "metadata": {
        "id": "f35cae10"
      },
      "source": [
        "---\n",
        "### Завдання 10"
      ]
    },
    {
      "cell_type": "code",
      "execution_count": 17,
      "id": "7d340e1b",
      "metadata": {
        "colab": {
          "base_uri": "https://localhost:8080/"
        },
        "id": "7d340e1b",
        "outputId": "9a70f8bf-551e-4362-ccc4-2431da4d532a"
      },
      "outputs": [
        {
          "output_type": "stream",
          "name": "stdout",
          "text": [
            "A =\n",
            " [[2 4 7 4]\n",
            " [1 2 7 2]\n",
            " [6 6 1 1]]\n",
            "v =\n",
            " [[ 6]\n",
            " [ 9]\n",
            " [10]\n",
            " [ 4]]\n",
            "A @ v =\n",
            " [[134]\n",
            " [102]\n",
            " [104]]\n"
          ]
        }
      ],
      "source": [
        "# === Завдання 10 ===\n",
        "# Умова:\n",
        "# Створіть матрицю розміром 3x4 та вектор розміром 4 x1, заповніть їх випадковими\n",
        "#цілими числами в діапазоні від 1 до 10 та знайдіть добуток матриці на вектор\n",
        "\n",
        "A = np.random.randint(1, 11, size=(3, 4))\n",
        "v = np.random.randint(1, 11, size=(4, 1))\n",
        "\n",
        "print(\"A =\\n\", A)\n",
        "print(\"v =\\n\", v)\n",
        "print(\"A @ v =\\n\", A @ v)\n",
        "\n",
        "\n"
      ]
    },
    {
      "cell_type": "markdown",
      "id": "6e2b4ba7",
      "metadata": {
        "id": "6e2b4ba7"
      },
      "source": [
        "---\n",
        "### Завдання 11"
      ]
    },
    {
      "cell_type": "code",
      "execution_count": 18,
      "id": "3b0e1ed5",
      "metadata": {
        "colab": {
          "base_uri": "https://localhost:8080/"
        },
        "id": "3b0e1ed5",
        "outputId": "87f97f8d-6d1e-40b8-8787-711aa3637be6"
      },
      "outputs": [
        {
          "output_type": "stream",
          "name": "stdout",
          "text": [
            "A =\n",
            " [[2 2 1]\n",
            " [8 1 9]]\n",
            "v =\n",
            " [[4]\n",
            " [8]\n",
            " [8]]\n",
            "A @ v =\n",
            " [[ 32]\n",
            " [112]]\n"
          ]
        }
      ],
      "source": [
        "# === Завдання 11 ===\n",
        "# Умова:\n",
        "# Створіть матрицю розміром 2x3 та вектор розміром 3x1, заповніть матрицю\n",
        "#випадковими цілими числами в діапазоні від 1 до 10, а вектор - випадковими цілими\n",
        "#числами в діапазоні від 1 до 10, і знайдіть добуток матриці на вектор.\n",
        "\n",
        "A = np.random.randint(1, 11, size=(2, 3))\n",
        "v = np.random.randint(1, 11, size=(3, 1))\n",
        "\n",
        "print(\"A =\\n\", A)\n",
        "print(\"v =\\n\", v)\n",
        "print(\"A @ v =\\n\", A @ v)\n",
        "\n",
        "\n"
      ]
    },
    {
      "cell_type": "markdown",
      "id": "7b00f2ae",
      "metadata": {
        "id": "7b00f2ae"
      },
      "source": [
        "---\n",
        "### Завдання 12"
      ]
    },
    {
      "cell_type": "code",
      "execution_count": 19,
      "id": "d859ef46",
      "metadata": {
        "colab": {
          "base_uri": "https://localhost:8080/"
        },
        "id": "d859ef46",
        "outputId": "862f584a-6521-49ca-87b3-7c5cef90ef13"
      },
      "outputs": [
        {
          "output_type": "stream",
          "name": "stdout",
          "text": [
            "A =\n",
            " [[4 5]\n",
            " [1 7]]\n",
            "B =\n",
            " [[3 4]\n",
            " [4 5]]\n",
            "A + B =\n",
            " [[ 7  9]\n",
            " [ 5 12]]\n"
          ]
        }
      ],
      "source": [
        "# === Завдання 12 ===\n",
        "# Умова:\n",
        "# Створіть дві матриці розміром 2x2, заповніть їх випадковими цілими числами в\n",
        "#діапазоні від 1 до 10 та знайдіть їхню суму.\n",
        "\n",
        "A = np.random.randint(1, 11, size=(2, 2))\n",
        "B = np.random.randint(1, 11, size=(2, 2))\n",
        "\n",
        "print(\"A =\\n\", A)\n",
        "print(\"B =\\n\", B)\n",
        "print(\"A + B =\\n\", A + B)\n",
        "\n",
        "\n"
      ]
    },
    {
      "cell_type": "markdown",
      "id": "8c092adf",
      "metadata": {
        "id": "8c092adf"
      },
      "source": [
        "---\n",
        "### Завдання 13"
      ]
    },
    {
      "cell_type": "code",
      "execution_count": 20,
      "id": "d82f6b87",
      "metadata": {
        "colab": {
          "base_uri": "https://localhost:8080/"
        },
        "id": "d82f6b87",
        "outputId": "fd43df14-6fbd-488b-f313-08841c752eb1"
      },
      "outputs": [
        {
          "output_type": "stream",
          "name": "stdout",
          "text": [
            "A =\n",
            " [[0.1363 0.8449]\n",
            " [0.599  0.403 ]]\n",
            "B =\n",
            " [[0.5695 0.3535]\n",
            " [0.3444 0.854 ]]\n",
            "A @ B =\n",
            " [[0.3687 0.7697]\n",
            " [0.4799 0.5559]]\n"
          ]
        }
      ],
      "source": [
        "# === Завдання 13 ===\n",
        "# Умова:\n",
        "# Створіть дві матриці розміром 2x2, заповніть їх випадковими дійсними числами в\n",
        "#діапазоні від 0 до 1 та знайдіть їх добуток.\n",
        "\n",
        "A = np.random.rand(2, 2)\n",
        "B = np.random.rand(2, 2)\n",
        "\n",
        "print(\"A =\\n\", A)\n",
        "print(\"B =\\n\", B)\n",
        "print(\"A @ B =\\n\", A @ B)\n",
        "\n",
        "\n"
      ]
    },
    {
      "cell_type": "markdown",
      "id": "b4f75a78",
      "metadata": {
        "id": "b4f75a78"
      },
      "source": [
        "---\n",
        "### Завдання 14"
      ]
    },
    {
      "cell_type": "code",
      "execution_count": 21,
      "id": "b1de1675",
      "metadata": {
        "colab": {
          "base_uri": "https://localhost:8080/"
        },
        "id": "b1de1675",
        "outputId": "a446f750-1786-4e5c-ed49-bdc696c5b072"
      },
      "outputs": [
        {
          "output_type": "stream",
          "name": "stdout",
          "text": [
            "A =\n",
            " [[0.5526 0.2499 0.6345 0.2332 0.6101]\n",
            " [0.0847 0.7908 0.2202 0.8228 0.4155]\n",
            " [0.9038 0.0192 0.937  0.4416 0.9062]\n",
            " [0.5294 0.2659 0.5827 0.7315 0.8768]\n",
            " [0.7969 0.8447 0.1153 0.0977 0.11  ]]\n",
            "Сума елементів матриці = 12.772887988879347\n"
          ]
        }
      ],
      "source": [
        "# === Завдання 14 ===\n",
        "# Умова:\n",
        "# Створіть матрицю розміром 5x5, заповніть її випадковими дійсними числами в\n",
        "#діапазоні від 0 до 1 та знайдіть суму елементів матриці.\n",
        "\n",
        "A = np.random.rand(5, 5)\n",
        "print(\"A =\\n\", A)\n",
        "print(\"Сума елементів матриці =\", np.sum(A))\n",
        "\n"
      ]
    },
    {
      "cell_type": "markdown",
      "id": "bde10160",
      "metadata": {
        "id": "bde10160"
      },
      "source": [
        "---\n",
        "### Завдання 15"
      ]
    },
    {
      "cell_type": "code",
      "execution_count": 22,
      "id": "865837fe",
      "metadata": {
        "colab": {
          "base_uri": "https://localhost:8080/"
        },
        "id": "865837fe",
        "outputId": "df2701fc-80b8-4ef8-e846-873efa823f04"
      },
      "outputs": [
        {
          "output_type": "stream",
          "name": "stdout",
          "text": [
            "A =\n",
            " [[ 0.846  -0.7277 -0.8329]\n",
            " [ 0.499  -0.8554 -0.172 ]\n",
            " [ 0.2348 -0.9143 -0.8681]]\n",
            "Вектор-стовпчик із сумою рядків:\n",
            " [[-0.7145]\n",
            " [-0.5285]\n",
            " [-1.5475]]\n"
          ]
        }
      ],
      "source": [
        "# === Завдання 15 ===\n",
        "# Умова:\n",
        "# Створіть матрицю розміром 3x3, заповніть її випадковими дійсними числами в\n",
        "#діапазоні від -1 до 1 та знайдіть вектор-стовпчик, що містить суму елементів кожного\n",
        "#рядка матриці.\n",
        "\n",
        "A = np.random.uniform(-1, 1, size=(3, 3))\n",
        "print(\"A =\\n\", A)\n",
        "\n",
        "row_sums = np.sum(A, axis=1).reshape(-1, 1)\n",
        "print(\"Вектор-стовпчик із сумою рядків:\\n\", row_sums)\n",
        "\n",
        "\n"
      ]
    },
    {
      "cell_type": "markdown",
      "id": "51a6adfb",
      "metadata": {
        "id": "51a6adfb"
      },
      "source": [
        "---\n",
        "## Висновок\n",
        "*(У цій лабораторній роботі я навчилася створювати масиви та матриці в NumPy,\n",
        "виконувати арифметичні операції, транспонування, добуток і знаходження обернених матриць.\n",
        "Отримала практичні навички роботи з лінійною алгеброю в Python.\n",
        ")*\n"
      ]
    }
  ],
  "metadata": {
    "colab": {
      "provenance": [],
      "toc_visible": true
    },
    "language_info": {
      "name": "python"
    },
    "kernelspec": {
      "name": "python3",
      "display_name": "Python 3"
    }
  },
  "nbformat": 4,
  "nbformat_minor": 5
}